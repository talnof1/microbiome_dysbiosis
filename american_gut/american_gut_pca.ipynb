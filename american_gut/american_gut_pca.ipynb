{
 "cells": [
  {
   "cell_type": "code",
   "execution_count": 10,
   "metadata": {},
   "outputs": [],
   "source": [
    "import pandas as pd\n",
    "import numpy as np\n",
    "import matplotlib\n",
    "matplotlib.use('TkAgg')\n",
    "import matplotlib.pyplot as plt\n",
    "from sklearn.decomposition import PCA"
   ]
  },
  {
   "cell_type": "code",
   "execution_count": 26,
   "metadata": {},
   "outputs": [
    {
     "name": "stderr",
     "output_type": "stream",
     "text": [
      "C:\\Users\\talno\\AppData\\Local\\Temp\\ipykernel_35068\\4078193045.py:7: FutureWarning: The default value of numeric_only in DataFrameGroupBy.sum is deprecated. In a future version, numeric_only will default to False. Either specify numeric_only or select only columns which should be valid for the function.\n",
      "  data_americans = data_americans.groupby(['taxon2', 'taxon1']).sum()\n"
     ]
    }
   ],
   "source": [
    "#american clean\n",
    "start = \"C:/Users/talno/microbiom_project/american_gut/\"\n",
    "data_americans = pd.read_csv(start + \"feature_table_gtdb.tsv\", sep='\\t')\n",
    "data_americans.drop('ID',inplace=True, axis=1)\n",
    "data_americans[\"taxon1\"] = data_americans['taxon'].str.split(';', expand=True)[5]\n",
    "data_americans[\"taxon2\"] = data_americans['taxon'].str.split(';', expand=True)[4]\n",
    "data_americans = data_americans.groupby(['taxon2', 'taxon1']).sum()\n",
    "data_americans = data_americans/data_americans.sum(axis=0)\n",
    "data_americans.fillna(0,inplace=True)\n",
    "data_americans = data_americans.T"
   ]
  },
  {
   "cell_type": "code",
   "execution_count": 45,
   "metadata": {},
   "outputs": [
    {
     "name": "stderr",
     "output_type": "stream",
     "text": [
      "C:\\Users\\talno\\AppData\\Local\\Temp\\ipykernel_35068\\2440006211.py:9: FutureWarning: The default value of numeric_only in DataFrameGroupBy.sum is deprecated. In a future version, numeric_only will default to False. Either specify numeric_only or select only columns which should be valid for the function.\n",
      "  otu = otu.groupby([\"taxon_f\", \"taxon_g\"]).sum()\n",
      "C:\\Users\\talno\\AppData\\Local\\Temp\\ipykernel_35068\\2440006211.py:21: FutureWarning: merging between different levels is deprecated and will be removed in a future version. (2 levels on the left, 1 on the right)\n",
      "  otu = otu.join(meta.DiseaseState)\n"
     ]
    }
   ],
   "source": [
    "ibd_huttenhower = pd.read_csv(\"C:/Users/talno/microbiom_project/ibd_huttenhower_results/RDP/ibd_huttenhower.otu_table.100.denovo.rdp_assigned\",sep='\\t')\n",
    "meta_huttenhower = pd.read_csv(\"C:/Users/talno/microbiom_project/ibd_huttenhower_results/ibd_huttenhower.metadata.txt\",sep='\\t')\n",
    "# arrange the otu with disease state and where from and take just what appears in the meta data\n",
    "def clean(meta,ibd,name):\n",
    "    \n",
    "    otu = ibd.copy()\n",
    "    otu[\"taxon_g\"] = otu[\"Unnamed: 0\"].str.split(';', expand=True)[5]\n",
    "    otu[\"taxon_f\"] = otu[\"Unnamed: 0\"].str.split(';', expand=True)[4]\n",
    "    otu = otu.groupby([\"taxon_f\", \"taxon_g\"]).sum()\n",
    "    try:\n",
    "        otu.drop(('f__', 'g__'), inplace=True)\n",
    "    except Exception:\n",
    "        print(\"no g__, f__\")\n",
    "    otu = otu /otu.sum(axis = 0)\n",
    "    otu.fillna(0,inplace=True)\n",
    "    otu = otu.T\n",
    "    meta.set_index(\"#SampleID\", inplace=True)\n",
    "    keepsmpls = [i for i in otu.index if i in meta.index]\n",
    "    otu = otu.loc[keepsmpls]\n",
    "    meta = meta.loc[keepsmpls]\n",
    "    otu = otu.join(meta.DiseaseState)\n",
    "    otu.loc[:, \"DiseaseState\"] = otu.loc[:, \"DiseaseState\"].map(\n",
    "        {\"ASD\": \"D\", \"nonCDI\": \"H\", \"nonIBD\": \"H\", \"CD\": \"D\", \"UC\": \"D\", \"CDI\": \"D\", \"H\": \"H\", \"postFMT_CDI\": \"H\",\n",
    "         \"ASD\": \"D\", 'HIV': \"D\", 'EDD': \"D\", \"CRC\": 'D', 'OB': \"D\", 'PAR': \"D\", \"OW\": \"D\", \"CIRR\": \"D\", \"MHE\": \"D\",\n",
    "         \"nonCRC\": \"H\", \"RA\": \"D\", \"T1D\": \"D\", \"CRC\": \"D\"})\n",
    "    otu[\"From\"] = name\n",
    "    # print(otu.shape, name,otu[otu[\"DiseaseState\"] == \"H\"].shape,otu[otu[\"DiseaseState\"] == \"D\"].shape)\n",
    "    return otu\n",
    "\n",
    "otu = clean(meta_huttenhower, ibd_huttenhower, \"hutt\")"
   ]
  },
  {
   "cell_type": "code",
   "execution_count": 48,
   "metadata": {},
   "outputs": [
    {
     "name": "stderr",
     "output_type": "stream",
     "text": [
      "C:\\Users\\talno\\AppData\\Local\\Temp\\ipykernel_35068\\2035582637.py:1: FutureWarning: Dropping of nuisance columns in DataFrame reductions (with 'numeric_only=None') is deprecated; in a future version this will raise TypeError.  Select only valid columns before calling the reduction.\n",
      "  otu.sum(axis=1)\n"
     ]
    },
    {
     "data": {
      "text/plain": [
       "100225    1.0\n",
       "100229    1.0\n",
       "7007      1.0\n",
       "7094C     1.0\n",
       "7111      1.0\n",
       "         ... \n",
       "7016      1.0\n",
       "7267      1.0\n",
       "100166    1.0\n",
       "7160      1.0\n",
       "7251      1.0\n",
       "Length: 228, dtype: float64"
      ]
     },
     "execution_count": 48,
     "metadata": {},
     "output_type": "execute_result"
    }
   ],
   "source": [
    "otu.sum(axis=1)"
   ]
  },
  {
   "cell_type": "code",
   "execution_count": 27,
   "metadata": {},
   "outputs": [],
   "source": [
    "data_americans.columns = data_americans.columns.get_level_values(1)"
   ]
  },
  {
   "cell_type": "code",
   "execution_count": 29,
   "metadata": {},
   "outputs": [
    {
     "data": {
      "text/plain": [
       "taxon1\n",
       "g__                       188.249050\n",
       "g__                         0.016275\n",
       "g__Roseomonas               0.041614\n",
       "g__                         5.195571\n",
       "g__Acidaminococcus          5.019443\n",
       "                             ...    \n",
       "g__                         0.043099\n",
       "g__Luteimonas               0.018965\n",
       "g__Pseudoxanthomonas_A      2.524441\n",
       "g__Stenotrophomonas        48.797322\n",
       "g__Xanthomonas              1.200280\n",
       "Length: 752, dtype: float64"
      ]
     },
     "execution_count": 29,
     "metadata": {},
     "output_type": "execute_result"
    }
   ],
   "source": [
    "data_americans.sum(axis=0)"
   ]
  },
  {
   "cell_type": "code",
   "execution_count": 5,
   "metadata": {},
   "outputs": [],
   "source": [
    "data = pd.read_csv(\"C:/Users/talno/microbiom_project/microbiome_dysbiosis/microbiome_dysbiosis/clean_concat_microbiomeHD\")"
   ]
  },
  {
   "cell_type": "code",
   "execution_count": 7,
   "metadata": {},
   "outputs": [],
   "source": [
    "data.set_index(\"Unnamed: 0\", inplace=True)"
   ]
  },
  {
   "cell_type": "code",
   "execution_count": 9,
   "metadata": {},
   "outputs": [
    {
     "data": {
      "text/plain": [
       "Index(['g__Abiotrophia', 'g__Acetanaerobacterium', 'g__Acetobacterium',\n",
       "       'g__Acidaminococcus', 'g__Acidovorax', 'g__Acinetobacter',\n",
       "       'g__Actinobacillus', 'g__Actinomyces', 'g__Aeromonas',\n",
       "       'g__Aggregatibacter',\n",
       "       ...\n",
       "       'g__Pseudacidovorax', 'g__Ruminobacter', 'g__Shimwellia',\n",
       "       'g__Sphingobacterium', 'g__Spirochaeta', 'g__Wautersiella',\n",
       "       'g__Blastomonas', 'g__Burkholderia', 'g__Gp1', 'g__Streptobacillus'],\n",
       "      dtype='object', length=429)"
      ]
     },
     "execution_count": 9,
     "metadata": {},
     "output_type": "execute_result"
    }
   ],
   "source": [
    "data.columns"
   ]
  }
 ],
 "metadata": {
  "kernelspec": {
   "display_name": "Python 3",
   "language": "python",
   "name": "python3"
  },
  "language_info": {
   "codemirror_mode": {
    "name": "ipython",
    "version": 3
   },
   "file_extension": ".py",
   "mimetype": "text/x-python",
   "name": "python",
   "nbconvert_exporter": "python",
   "pygments_lexer": "ipython3",
   "version": "3.9.2"
  },
  "orig_nbformat": 4
 },
 "nbformat": 4,
 "nbformat_minor": 2
}
