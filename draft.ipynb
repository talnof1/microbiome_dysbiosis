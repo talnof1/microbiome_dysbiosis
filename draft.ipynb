{
 "cells": [
  {
   "cell_type": "code",
   "execution_count": null,
   "metadata": {},
   "outputs": [],
   "source": [
    "import pandas as pd\n",
    "import numpy as np\n",
    "import matplotlib\n",
    "matplotlib.use('TkAgg')\n",
    "import matplotlib.pyplot as plt\n",
    "from sklearn.decomposition import PCA"
   ]
  },
  {
   "cell_type": "code",
   "execution_count": null,
   "metadata": {},
   "outputs": [],
   "source": [
    "# load all data\n",
    "\n",
    "ibd_huttenhower = pd.read_csv(\"C:/Users/talno/microbiom_project/ibd_huttenhower_results/RDP/ibd_huttenhower.otu_table.100.denovo.rdp_assigned\",sep='\\t')\n",
    "meta_huttenhower = pd.read_csv(\"C:/Users/talno/microbiom_project/ibd_huttenhower_results/ibd_huttenhower.metadata.txt\",sep='\\t')\n",
    "\n",
    "ibd_gevers = pd.read_csv(\"C:/Users/talno/microbiom_project/ibd_gevers_2014_results/RDP/ibd_gevers_2014.otu_table.100.denovo.rdp_assigned\",sep='\\t')\n",
    "meta_gevers = pd.read_csv(\"C:/Users/talno/microbiom_project/ibd_gevers_2014_results/ibd_gevers_2014.metadata.txt\",sep='\\t')\n",
    "meta_gevers.rename(columns={\"sample\": \"#SampleID\"}, inplace=True)\n",
    "\n",
    "ibd_youngster = pd.read_csv(\"C:/Users/talno/microbiom_project/cdi_youngster_results/cdi_youngster_results/RDP/cdi_youngster.otu_table.100.denovo.rdp_assigned\",sep='\\t')\n",
    "meta_youngster = pd.read_csv(\"C:/Users/talno/microbiom_project/cdi_youngster_results/cdi_youngster_results/cdi_youngster.metadata.txt\",sep='\\t')\n",
    "meta_youngster.rename(columns={\"#Sample_id\": \"#SampleID\"}, inplace=True)\n",
    "\n",
    "ibd_schubert = pd.read_csv(\"C:/Users/talno/microbiom_project/cdi_schubert_results/RDP/cdi_schubert.otu_table.100.denovo.rdp_assigned\",sep='\\t')\n",
    "meta_schubert = pd.read_csv(\"C:/Users/talno/microbiom_project/cdi_schubert_results/cdi_schubert.metadata.txt\",sep='\\t', encoding= 'unicode_escape')\n",
    "meta_schubert.rename(columns={\"sample_id\": \"#SampleID\"}, inplace=True)\n",
    "\n",
    "ibd_asd = pd.read_csv(\"C:/Users/talno/microbiom_project/asd_son_results/RDP/asd_son.otu_table.100.denovo.rdp_assigned\",sep='\\t')\n",
    "meta_asd = pd.read_csv(\"C:/Users/talno/microbiom_project/asd_son_results/asd_son.metadata.txt\",sep='\\t')\n",
    "meta_asd.rename(columns={\"Library_Name_s\": \"#SampleID\"}, inplace=True)\n",
    "\n",
    "ibd_vincent = pd.read_csv(\"C:/Users/talno/microbiom_project/cdi_vincent_v3v5_results/RDP/cdi_vincent_v3v5.otu_table.100.denovo.rdp_assigned\",sep='\\t')\n",
    "meta_vincent = pd.read_csv(\"C:/Users/talno/microbiom_project/cdi_vincent_v3v5_results/cdi_vincent_v3v5.metadata.txt\",sep='\\t')\n",
    "meta_vincent.rename(columns={\"Unnamed: 0\": \"#SampleID\"}, inplace=True)\n",
    "\n",
    "ibd_autism = pd.read_csv(\"C:/Users/talno/microbiom_project/autism_kb_results/RDP/autism_kb.otu_table.100.denovo.rdp_assigned\",sep='\\t')\n",
    "meta_autism = pd.read_csv(\"C:/Users/talno/microbiom_project/autism_kb_results/autism_kb.metadata.txt\",sep='\\t')\n",
    "meta_autism.rename(columns={\"#Sample ID\": \"#SampleID\"}, inplace=True)\n",
    "\n",
    "ibd_ross = pd.read_csv(\"C:/Users/talno/microbiom_project/ob_ross_results/RDP/ob_ross.otu_table.100.denovo.rdp_assigned\",sep='\\t')\n",
    "meta_ross = pd.read_csv(\"C:/Users/talno/microbiom_project/ob_ross_results/ob_ross.metadata.txt\",sep='\\t')\n",
    "meta_ross.rename(columns={\"sampleID\": \"#SampleID\"}, inplace=True)\n",
    "\n",
    "ibd_zupancic = pd.read_csv(\"C:/Users/talno/microbiom_project/ob_zupancic_results/RDP/ob_zupancic.otu_table.100.denovo.rdp_assigned\",sep='\\t')\n",
    "meta_zupancic = pd.read_csv(\"C:/Users/talno/microbiom_project/ob_zupancic_results/ob_zupancic.metadata.txt\",sep='\\t')\n",
    "meta_zupancic.rename(columns={\"Unnamed: 0\": \"#SampleID\"}, inplace=True)\n",
    "\n",
    "ibd_scheperjans = pd.read_csv(\"C:/Users/talno/microbiom_project/par_scheperjans_results/RDP/par_scheperjans.otu_table.100.denovo.rdp_assigned\",sep='\\t')\n",
    "meta_scheperjans = pd.read_csv(\"C:/Users/talno/microbiom_project/par_scheperjans_results/par_scheperjans.metadata.txt\",sep='\\t')\n",
    "meta_scheperjans.rename(columns={\"sample_accession\": \"#SampleID\"}, inplace=True)\n",
    "\n",
    "ibd_littman = pd.read_csv(\"C:/Users/talno/microbiom_project/ra_littman_results/RDP/ra_littman.otu_table.100.denovo.rdp_assigned\",sep='\\t')\n",
    "meta_littman = pd.read_csv(\"C:/Users/talno/microbiom_project/ra_littman_results/ra_littman.metadata.txt\",sep='\\t')\n",
    "\n",
    "\n",
    "ibd_alkanani = pd.read_csv(\"C:/Users/talno/microbiom_project/t1d_alkanani_results/RDP/t1d_alkanani.otu_table.100.denovo.rdp_assigned\",sep='\\t')\n",
    "meta_alkanani = pd.read_csv(\"C:/Users/talno/microbiom_project/t1d_alkanani_results/t1d_alkanani.metadata.txt\",sep='\\t')\n",
    "meta_alkanani.rename(columns={\"Lib\": \"#SampleID\"}, inplace=True)\n",
    "\n",
    "ibd_mejialeon = pd.read_csv(\"C:/Users/talno/microbiom_project/t1d_mejialeon_results/RDP/t1d_mejialeon.otu_table.100.denovo.rdp_assigned\",sep='\\t')\n",
    "meta_mejialeon = pd.read_csv(\"C:/Users/talno/microbiom_project/t1d_mejialeon_results/t1d_mejialeon.metadata.txt\",sep='\\t')\n",
    "\n",
    "ibd_xiang = pd.read_csv(\"C:/Users/talno/microbiom_project/crc_xiang_results/RDP/crc_xiang.otu_table.100.denovo.rdp_assigned\",sep='\\t')\n",
    "meta_xiang = pd.read_csv(\"C:/Users/talno/microbiom_project/crc_xiang_results/crc_xiang.metadata.txt\",sep='\\t')\n",
    "\n",
    "ibd_zackular = pd.read_csv(\"C:/Users/talno/microbiom_project/crc_zackular_results/RDP/crc_zackular.otu_table.100.denovo.rdp_assigned\",sep='\\t')\n",
    "meta_zackular = pd.read_csv(\"C:/Users/talno/microbiom_project/crc_zackular_results/crc_zackular.metadata.txt\",sep='\\t', encoding= 'unicode_escape')\n",
    "meta_zackular.rename(columns={\"sample_id\": \"#SampleID\"}, inplace=True)\n",
    "\n",
    "ibd_zeller = pd.read_csv(\"C:/Users/talno/microbiom_project/crc_zeller_results/RDP/crc_zeller.otu_table.100.denovo.rdp_assigned\",sep='\\t')\n",
    "meta_zeller = pd.read_csv(\"C:/Users/talno/microbiom_project/crc_zeller_results/crc_zeller.metadata.txt\",sep='\\t', encoding= 'unicode_escape')\n",
    "meta_zeller.rename(columns={\"Subject ID\": \"#SampleID\"}, inplace=True)\n",
    "\n",
    "ibd_zhao = pd.read_csv(\"C:/Users/talno/microbiom_project/crc_zhao_results/RDP/crc_zhao.otu_table.100.denovo.rdp_assigned\",sep='\\t')\n",
    "meta_zhao = pd.read_csv(\"C:/Users/talno/microbiom_project/crc_zhao_results/crc_zhao.metadata.txt\",sep='\\t')\n",
    "\n",
    "ibd_singh = pd.read_csv(\"C:/Users/talno/microbiom_project/edd_singh_results/RDP/edd_singh.otu_table.100.denovo.rdp_assigned\",sep='\\t')\n",
    "meta_singh = pd.read_csv(\"C:/Users/talno/microbiom_project/edd_singh_results/edd_singh.metadata.txt\",sep='\\t')\n",
    "meta_singh.rename(columns={\"SampleID\": \"#SampleID\"}, inplace=True)\n",
    "\n",
    "ibd_dinh = pd.read_csv(\"C:/Users/talno/microbiom_project/hiv_dinh_results/RDP/hiv_dinh.otu_table.100.denovo.rdp_assigned\",sep='\\t')\n",
    "meta_dinh = pd.read_csv(\"C:/Users/talno/microbiom_project/hiv_dinh_results/hiv_dinh.metadata.txt\",sep='\\t')\n",
    "meta_dinh.rename(columns={\"Sample_Name_s\": \"#SampleID\"}, inplace=True)\n",
    "\n",
    "ibd_lozupone = pd.read_csv(\"C:/Users/talno/microbiom_project/hiv_lozupone_results/RDP/hiv_lozupone.otu_table.100.denovo.rdp_assigned\",sep='\\t')\n",
    "meta_lozupone = pd.read_csv(\"C:/Users/talno/microbiom_project/hiv_lozupone_results/hiv_lozupone.metadata.txt\",sep='\\t')\n",
    "meta_lozupone.rename(columns={\"new_sample_name\": \"#SampleID\"}, inplace=True)"
   ]
  },
  {
   "cell_type": "code",
   "execution_count": null,
   "metadata": {},
   "outputs": [],
   "source": [
    "all_ibds = [ibd_huttenhower, ibd_gevers, ibd_youngster, ibd_schubert, ibd_asd,ibd_vincent,ibd_autism,ibd_ross, ibd_littman, ibd_alkanani, ibd_mejialeon,ibd_xiang, ibd_zackular, ibd_zeller, ibd_zhao, ibd_singh, ibd_dinh, ibd_lozupone]\n",
    "all_metas = [meta_huttenhower, meta_gevers, meta_youngster, meta_schubert, meta_asd, meta_vincent,meta_autism,meta_ross, meta_littman, meta_alkanani, meta_mejialeon, meta_xiang, meta_zackular, meta_zeller, meta_zhao, meta_singh, meta_dinh, meta_lozupone]\n",
    "names =  [\"huttenhower\", \"gevers\", \"youngster\", \"schubert\", \"asd\", \"vincent\" , \"autism\" ,\"ross\", \"littman\" , \"alkanani\", \"mejialeon\", \"xiang\", \"zackular\", \"zeller\", \"zhao\", \"singh\", \"dinh\", \"lozupone\"]"
   ]
  },
  {
   "cell_type": "code",
   "execution_count": null,
   "metadata": {},
   "outputs": [],
   "source": [
    "\n",
    "# arrange the otu with disease state and where from and take just what appears in the meta data\n",
    "def clean(meta,ibd,name):\n",
    "    \n",
    "    otu = ibd.copy()\n",
    "    otu[\"Unnamed: 0\"] = otu[\"Unnamed: 0\"].str.split(';', expand=True)[5]\n",
    "    otu = otu.groupby([\"Unnamed: 0\"]).sum()\n",
    "    otu = otu /otu.sum(axis = 0)\n",
    "    otu.fillna(0,inplace=True)\n",
    "    otu = otu.T\n",
    "    meta.set_index(\"#SampleID\", inplace=True)\n",
    "    keepsmpls = [i for i in otu.index if i in meta.index]\n",
    "    otu = otu.loc[keepsmpls]\n",
    "    meta = meta.loc[keepsmpls]\n",
    "    otu = otu.join(meta.DiseaseState)\n",
    "    otu.loc[:, \"DiseaseState\"] = otu.loc[:, \"DiseaseState\"].map(\n",
    "        {\"ASD\": \"D\", \"nonCDI\": \"H\", \"nonIBD\": \"H\", \"CD\": \"D\", \"UC\": \"D\", \"CDI\": \"D\", \"H\": \"H\", \"postFMT_CDI\": \"H\",\n",
    "         \"ASD\": \"D\", 'HIV': \"D\", 'EDD': \"D\", \"CRC\": 'D', 'OB': \"D\", 'PAR': \"D\", \"OW\": \"D\", \"CIRR\": \"D\", \"MHE\": \"D\",\n",
    "         \"nonCRC\": \"H\", \"RA\": \"D\", \"T1D\": \"D\", \"CRC\": \"D\"})\n",
    "    otu[\"From\"] = name\n",
    "    print(otu.shape, name,otu[otu[\"DiseaseState\"] == \"H\"].shape,otu[otu[\"DiseaseState\"] == \"D\"].shape)\n",
    "    return otu"
   ]
  },
  {
   "cell_type": "code",
   "execution_count": null,
   "metadata": {},
   "outputs": [],
   "source": [
    "fixed = []\n",
    "for ibd, meta, name in zip(all_ibds, all_metas, names):\n",
    "       print(name)\n",
    "       fixed.append(clean(meta,ibd,name))\n",
    "finish_data = pd.concat(fixed)\n",
    "finish_data.fillna(0,inplace=True)\n",
    "finish_data.reset_index(drop=True, inplace=True)  \n",
    "finish_data.drop(columns=[\"g__\"], inplace=True)  \n",
    "finish_data.to_csv(\"clean_concat_microbiomeHD\")"
   ]
  },
  {
   "cell_type": "code",
   "execution_count": null,
   "metadata": {},
   "outputs": [],
   "source": [
    "\n",
    "features = list(finish_data.drop(['From', 'DiseaseState'], axis=1).columns)\n",
    "data_for_pca = finish_data[features]\n",
    "print(\"num of features: \", len(features))\n"
   ]
  },
  {
   "cell_type": "code",
   "execution_count": null,
   "metadata": {},
   "outputs": [],
   "source": [
    "\n",
    "pca = PCA(n_components=2)\n",
    "components = pca.fit_transform(data_for_pca)\n",
    "print(\"explained variance: \", sum(pca.explained_variance_ratio_).round(3))\n",
    "pca_Df = pd.DataFrame(data = components, columns = ['Pc1', 'Pc2'])\n"
   ]
  },
  {
   "cell_type": "code",
   "execution_count": null,
   "metadata": {},
   "outputs": [],
   "source": [
    "import math\n",
    "# fig, (ax1, ax2) = plt.subplots(1,2, figsize=(20,8))\n",
    "fig= plt.figure()\n",
    "plt.xlabel('Pc1 ', fontsize=20)\n",
    "plt.ylabel('Pc2 ', fontsize=20)\n",
    "plt.title(\"Principal Component Analysis\",fontsize=20)\n",
    "targets = [[\"huttenhower\", \"H\"],[\"huttenhower\", \"D\"], [\"gevers\", \"H\"],[\"gevers\", \"D\"], [\"youngster\", \"H\"],[\"youngster\", \"D\"], [\"schubert\", \"H\"],[\"schubert\", \"D\"],[\"vincent\", \"H\"],[\"vincent\", \"D\"],[\"asd\", \"H\"],[\"asd\", \"D\"],[\"autism\", \"H\"],[\"autism\", \"D\"],[\"ross\", \"H\"],[\"ross\", \"D\"],[\"littman\", \"H\"],[\"littman\", \"D\"],[\"alkanani\", \"H\"],[\"alkanani\", \"D\"],[\"xiang\", \"H\"],[\"xiang\", \"D\"],[\"zackular\", \"H\"],[\"zackular\", \"D\"],[\"zeller\", \"H\"],[\"zeller\", \"D\"],[\"zhao\", \"H\"],[\"zhao\", \"D\"],[\"singh\", \"H\"],[\"singh\", \"D\"],[\"dinh\", \"H\"],[\"dinh\", \"D\"],[\"lozupone\", \"H\"],[\"lozupone\", \"D\"]]\n",
    "colors = ['r', 'r', 'g', 'g', 'b', 'b','m', 'm', 'c', 'c','y','y','k','k','lime','lime','indigo','indigo','gold','gold','olive','olive','grey','grey','royalblue','royalblue','peru','peru','orangered','orangered','skyblue','skyblue','mistyrose','mistyrose']\n",
    "arrows = []\n",
    "slopes = []\n",
    "angles = []\n",
    "for target, color in zip(targets,colors):\n",
    "    indicesToKeep = (finish_data['From'] == target[0]) & (finish_data['DiseaseState'] == target[1])\n",
    "    fill = 'none'\n",
    "    if target[1] == \"D\":\n",
    "        fill = color\n",
    "    x = pca_Df.loc[indicesToKeep.values, 'Pc1'].values.mean()\n",
    "    y = pca_Df.loc[indicesToKeep.values, 'Pc2'].values.mean()\n",
    "    arrows.append(x)\n",
    "    arrows.append(y)\n",
    "    # plt.scatter(pca_Df.loc[indicesToKeep.values, 'Pc1'] , pca_Df.loc[indicesToKeep.values, 'Pc2'], c=fill, edgecolors=color, s=50)\n",
    "\n",
    "# find centroids and plotting an arrow\n",
    "col = ['r', 'g', 'b', 'm', 'c','y','k','lime','indigo','gold','olive','grey','royalblue','peru','orangered','skyblue','mistyrose']\n",
    "for i in range(0,len(arrows),4):\n",
    "    slope = (arrows[i+3]-arrows[i+1])/(arrows[i+2]-arrows[i])\n",
    "    slopes.append(slope)\n",
    "    angles.append(math.degrees(math.atan2(arrows[i+3]-arrows[i+1],arrows[i+2]-arrows[i])))\n",
    "    plt.arrow(arrows[i], arrows[i+1], arrows[i+2]-arrows[i],arrows[i+3]-arrows[i+1], color=col[i//4])\n",
    "\n",
    "\n",
    "L = [\"huttenhower-CD\", \"gevers-CD\", \"youngster-CDI\", \"schubert-CDI\",\"vincent-CDI\",\"asd-ASD\",\"autism\",\"ross-OBESE\",\"littman-RA\",\"alkanani-T1D\",\"xiang-CRC\",\"zackular-CRC\",\"zeller-CRC\",\"zhao-CRC\",\"singh-EDD\",\"dinh-HIV\",\"lozupone-HIV\"]\n",
    "print(\"arrows: \", arrows)\n",
    "print(\"angles: \", angles)\n",
    "print(\"slopes: \", slopes)\n",
    "plt.legend(L,prop={'size': 15})\n",
    "plt.show()"
   ]
  },
  {
   "cell_type": "code",
   "execution_count": null,
   "metadata": {},
   "outputs": [],
   "source": [
    "import math\n",
    "fig = plt.figure(figsize=(10,10))\n",
    "plt.xlabel('Pc1 ', fontsize=20)\n",
    "plt.ylabel('Pc2 ', fontsize=20)\n",
    "plt.title(\"Principal Component Analysis\",fontsize=20)\n",
    "targets = [[\"huttenhower\", \"H\"],[\"huttenhower\", \"D\"], [\"gevers\", \"H\"],[\"gevers\", \"D\"], [\"youngster\", \"H\"],[\"youngster\", \"D\"], [\"schubert\", \"H\"],[\"schubert\", \"D\"],[\"vincent\", \"H\"],[\"vincent\", \"D\"],[\"asd\", \"H\"],[\"asd\", \"D\"],[\"autism\", \"H\"],[\"autism\", \"D\"],[\"ross\", \"H\"],[\"ross\", \"D\"],[\"littman\", \"H\"],[\"littman\", \"D\"],[\"alkanani\", \"H\"],[\"alkanani\", \"D\"],[\"xiang\", \"H\"],[\"xiang\", \"D\"],[\"zackular\", \"H\"],[\"zackular\", \"D\"],[\"zeller\", \"H\"],[\"zeller\", \"D\"],[\"zhao\", \"H\"],[\"zhao\", \"D\"],[\"singh\", \"H\"],[\"singh\", \"D\"],[\"dinh\", \"H\"],[\"dinh\", \"D\"],[\"lozupone\", \"H\"],[\"lozupone\", \"D\"]]\n",
    "colors = ['r', 'r', 'g', 'g', 'b', 'b','m', 'm', 'c', 'c','y','y','k','k','lime','lime','indigo','indigo','gold','gold','olive','olive','grey','grey','royalblue','royalblue','peru','peru','orangered','orangered','skyblue','skyblue','mistyrose','mistyrose']\n",
    "arrows, slopes, angles, sizes, var_x, var_y = [], [], [] ,[] ,[] ,[]\n",
    "\n",
    "for target, color in zip(targets,colors):\n",
    "    indicesToKeep = (finish_data['From'] == target[0]) & (finish_data['DiseaseState'] == target[1])\n",
    "    fill = 'none'\n",
    "    if target[1] == \"D\":\n",
    "        fill = color\n",
    "    x = np.percentile(pca_Df.loc[indicesToKeep.values, 'Pc1'], 50)\n",
    "    y = np.percentile(pca_Df.loc[indicesToKeep.values, 'Pc2'], 50)\n",
    "    arrows.append(x)\n",
    "    arrows.append(y)\n",
    "    # plt.scatter(pca_Df.loc[indicesToKeep.values, 'Pc1'] , pca_Df.loc[indicesToKeep.values, 'Pc2'], c=fill, edgecolors=color, s=50)\n",
    "\n",
    "# find centroids and plotting an arrow\n",
    "col = ['r', 'g', 'b', 'm', 'c','y','k','lime','indigo','gold','olive','grey','royalblue','peru','orangered','skyblue','mistyrose']\n",
    "for i in range(0,len(arrows),4):\n",
    "    slope = (arrows[i+3]-arrows[i+1])/(arrows[i+2]-arrows[i])\n",
    "    slopes.append(slope)\n",
    "    angles.append(math.degrees(math.atan2(arrows[i+3]-arrows[i+1],arrows[i+2]-arrows[i])))\n",
    "    sizes.append(math.sqrt((arrows[i+2]-arrows[i])**2+(arrows[i+3]-arrows[i+1])**2))\n",
    "    plt.arrow(arrows[i], arrows[i+1], arrows[i+2]-arrows[i],arrows[i+3]-arrows[i+1], color=col[i//4])\n",
    "\n",
    "\n",
    "L = [\"huttenhower-CD\", \"gevers-CD\", \"youngster-CDI\", \"schubert-CDI\",\"vincent-CDI\",\"asd-ASD\",\"autism\",\"ross-OBESE\",\"littman-RA\",\"alkanani-T1D\",\"xiang-CRC\",\"zackular-CRC\",\"zeller-CRC\",\"zhao-CRC\",\"singh-EDD\",\"dinh-HIV\",\"lozupone-HIV\"]\n",
    "print(\"arrows: \", arrows)\n",
    "print(\"angles: \", angles)\n",
    "print(\"slopes: \", slopes)\n",
    "print(\"sizes: \", sizes)\n",
    "plt.legend(L,prop={'size': 15})\n",
    "plt.show()"
   ]
  },
  {
   "cell_type": "code",
   "execution_count": null,
   "metadata": {},
   "outputs": [],
   "source": [
    "L = [[\"huttenhower\",\"CD\"], [\"gevers\",\"CD\"], [\"youngster\",\"CDI\"], [\"schubert\",\"CDI\"],[\"vincent\",\"CDI\"],[\"asd\",\"autism\"],[\"autism\",\"autism\"],[\"ross\",\"Obese\"],[\"littman\",\"RA\"],[\"alkanani\",\"T1D\"],[\"zackular\",\"CRC\"],[\"xiang\",\"CRC\"],[\"zeller\",\"CRC\"],[\"zhao\",\"CRC\"],[\"singh\",\"EDD\"],[\"dinh\",\"HIV\"],[\"lozupone\",\"HIV\"]]\n",
    "n = len(angles)\n",
    "colors = ['r', 'g', 'b', 'm', 'c','y','k','lime','indigo','gold','olive','grey','royalblue','peru','orangered','skyblue','mistyrose']\n",
    "colorim = {\"CD\": 'b', \"CDI\": 'g', \"autism\": 'r', \"Obese\": 'k', 'CRC': 'c', 'HIV': 'm', \"EDD\":'peru', \"T1D\": 'orangered', \"RA\": 'lime'}\n",
    "\n",
    "ax = fig.add_subplot(projection='polar')\n",
    "for angle,name,size,x,y,color in zip(angles,L,sizes,var_x,var_y,colors):\n",
    "    ax.errorbar(math.radians(angle), size,xerr=x,yerr=y, c=colorim[name[1]], alpha=1, marker='o')\n",
    "    # ax.errorbar(math.radians(angle), size, xerr=x, yerr=y, c=color, alpha=0.75, marker='o')\n",
    "    # ax.add_artist(Ellipse((math.radians(angle),size), x, y, facecolor=colorim[name[1]], edgecolor=colorim[name[1]], zorder=2))\n",
    "    # c = ax.scatter(math.radians(angle), size, c=colorim[name[1]], alpha=0.75, s=50)\n",
    "    # c = ax.scatter(math.radians(angle), size, c=color, alpha=0.75, s=50)\n",
    "plt.legend(L,prop={'size': 7})\n",
    "plt.show()"
   ]
  },
  {
   "cell_type": "code",
   "execution_count": null,
   "metadata": {},
   "outputs": [],
   "source": [
    "start = \"C:/Users/talno/microbiom_project/american_gut/\"\n",
    "data_americans = pd.read_csv(start + \"feature_table_gtdb.tsv\", sep='\\t')"
   ]
  },
  {
   "cell_type": "code",
   "execution_count": null,
   "metadata": {},
   "outputs": [],
   "source": []
  },
  {
   "cell_type": "code",
   "execution_count": null,
   "metadata": {},
   "outputs": [],
   "source": [
    "#american clean\n",
    "start = \"C:/Users/talno/microbiom_project/american_gut/\"\n",
    "data_americans = pd.read_csv(start + \"feature_table_gtdb.tsv\", sep='\\t')\n",
    "data_americans.drop('ID',inplace=True, axis=1)\n",
    "data_americans[\"taxon1\"] = data_americans['taxon'].str.split(';', expand=True)[5]\n",
    "data_americans[\"taxon2\"] = data_americans['taxon'].str.split(';', expand=True)[4]\n",
    "data_americans = data_americans.groupby(['taxon1', 'taxon2']).sum()\n",
    "# data_americans.drop()\n",
    "# data_americans = data_americans/data_americans.sum(axis=0)\n",
    "# data_americans.fillna(0,inplace=True)\n",
    "# data_americans = data_americans.T"
   ]
  },
  {
   "cell_type": "code",
   "execution_count": null,
   "metadata": {},
   "outputs": [],
   "source": [
    "data_americans"
   ]
  },
  {
   "cell_type": "code",
   "execution_count": null,
   "metadata": {},
   "outputs": [],
   "source": [
    "plt.figure()\n",
    "plt.hist(data_americans.sum(axis=0))\n",
    "# plt.show()\n"
   ]
  },
  {
   "cell_type": "code",
   "execution_count": null,
   "metadata": {},
   "outputs": [],
   "source": [
    "data_americans.g__ASF356.sum()"
   ]
  },
  {
   "cell_type": "code",
   "execution_count": null,
   "metadata": {},
   "outputs": [],
   "source": [
    "data_americans.drop('g__',inplace=True, axis=1)"
   ]
  },
  {
   "cell_type": "code",
   "execution_count": null,
   "metadata": {},
   "outputs": [],
   "source": [
    "data_americans.to_csv(\"clean_Americans\")"
   ]
  }
 ],
 "metadata": {
  "kernelspec": {
   "display_name": "Python 3",
   "language": "python",
   "name": "python3"
  },
  "language_info": {
   "codemirror_mode": {
    "name": "ipython",
    "version": 3
   },
   "file_extension": ".py",
   "mimetype": "text/x-python",
   "name": "python",
   "nbconvert_exporter": "python",
   "pygments_lexer": "ipython3",
   "version": "3.9.2"
  },
  "orig_nbformat": 4
 },
 "nbformat": 4,
 "nbformat_minor": 2
}
